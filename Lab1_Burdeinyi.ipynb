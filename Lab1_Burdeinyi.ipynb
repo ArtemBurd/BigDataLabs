{
 "cells": [
  {
   "cell_type": "code",
   "execution_count": 1,
   "id": "492d0e99",
   "metadata": {},
   "outputs": [
    {
     "data": {
      "text/plain": [
       "'D:\\\\Programs\\\\spark-3.5.0-bin-hadoop3'"
      ]
     },
     "execution_count": 1,
     "metadata": {},
     "output_type": "execute_result"
    }
   ],
   "source": [
    "import findspark\n",
    "import numpy as np\n",
    "import pandas as pd\n",
    "import os\n",
    "import re\n",
    "findspark.init()\n",
    "findspark.find()"
   ]
  },
  {
   "cell_type": "code",
   "execution_count": 2,
   "id": "9863b970",
   "metadata": {},
   "outputs": [],
   "source": [
    "def text_split(text):\n",
    "    delimiter = r'[ \\n\\t,\\.!\\?:;\\\"\\(\\)\\[\\]]+'\n",
    "    return re.split(delimiter, text.lower())"
   ]
  },
  {
   "cell_type": "code",
   "execution_count": 3,
   "id": "2d0d6247",
   "metadata": {},
   "outputs": [],
   "source": [
    "import pyspark\n",
    "sc = pyspark.SparkContext(\"local\", \"lab1\")"
   ]
  },
  {
   "cell_type": "code",
   "execution_count": 4,
   "id": "d8f0b8d3",
   "metadata": {},
   "outputs": [],
   "source": [
    "rdd_alcohol = sc.textFile(\"text_docs/Alcohol.txt\")\n",
    "rdd_cannabis = sc.textFile(\"text_docs/Cannabis.txt\")\n",
    "rdd_cocaine = sc.textFile(\"text_docs/Cocaine.txt\")\n",
    "rdd_heroin = sc.textFile(\"text_docs/Heroin.txt\")\n",
    "rdd_nicotine = sc.textFile(\"text_docs/Nicotine.txt\")"
   ]
  },
  {
   "cell_type": "code",
   "execution_count": 5,
   "id": "db5f56bb",
   "metadata": {},
   "outputs": [],
   "source": [
    "def word_count(rdd):\n",
    "    words = rdd.flatMap(text_split).countByValue()\n",
    "    word_counts = dict(words)\n",
    "    del word_counts['']\n",
    "    # Повертає звичайний dict\n",
    "    return word_counts\n",
    "\n",
    "# Гарненько друкує n найрозповсюдженіших слів зі словника dict_words\n",
    "def print_top_n(dict_words, n=30):\n",
    "    words_sorted = sorted(dict_words.items(), key=lambda x: x[1], reverse=True)\n",
    "    words_top_n = pd.DataFrame(words_sorted[:n], columns=[\"word\", \"count\"])\n",
    "    print(words_top_n)"
   ]
  },
  {
   "cell_type": "code",
   "execution_count": 6,
   "id": "513ef5c1",
   "metadata": {},
   "outputs": [],
   "source": [
    "wordcount_alcohol = word_count(rdd_alcohol)\n",
    "wordcount_cannabis = word_count(rdd_cannabis)\n",
    "wordcount_cocaine = word_count(rdd_cocaine)\n",
    "wordcount_heroin = word_count(rdd_heroin)\n",
    "wordcount_nicotine = word_count(rdd_nicotine)"
   ]
  },
  {
   "cell_type": "code",
   "execution_count": 7,
   "id": "8f4ee2b2",
   "metadata": {},
   "outputs": [
    {
     "name": "stdout",
     "output_type": "stream",
     "text": [
      "              word  count\n",
      "0               of    305\n",
      "1              the    293\n",
      "2              and    248\n",
      "3               in    198\n",
      "4          alcohol    180\n",
      "5               to    149\n",
      "6               is    133\n",
      "7          ethanol    125\n",
      "8                a    111\n",
      "9               as     81\n",
      "10            with     68\n",
      "11             are     66\n",
      "12              or     58\n",
      "13            that     52\n",
      "14         effects     49\n",
      "15              by     48\n",
      "16              it     40\n",
      "17             for     40\n",
      "18             can     40\n",
      "19     consumption     39\n",
      "20            also     33\n",
      "21              at     33\n",
      "22             has     32\n",
      "23              be     31\n",
      "24              on     29\n",
      "25        drinking     28\n",
      "26            such     27\n",
      "27            have     27\n",
      "28  concentrations     27\n",
      "29            more     26\n"
     ]
    }
   ],
   "source": [
    "print_top_n(wordcount_alcohol, n=30)"
   ]
  },
  {
   "cell_type": "code",
   "execution_count": 8,
   "id": "caaad8ad",
   "metadata": {},
   "outputs": [],
   "source": [
    "rdd_drugs = sc.wholeTextFiles(\"text_docs/*\")"
   ]
  },
  {
   "cell_type": "code",
   "execution_count": 9,
   "id": "cf7e9718",
   "metadata": {},
   "outputs": [],
   "source": [
    "def tokenize(text, doc_id):\n",
    "    words = text_split(text)\n",
    "    term_locations = {}\n",
    "\n",
    "    for position, word in enumerate(words):\n",
    "        if word not in term_locations:\n",
    "            term_locations[word] = [os.path.basename(doc_id), []]\n",
    "        term_locations[word][1].append(position)\n",
    "\n",
    "    return [(word, locations) for word, locations in term_locations.items()]\n",
    "\n",
    "#RDD має бути саме у вигляді [(назва1, вміст1), ...], як наприклад від wholeTextFiles\n",
    "def inverted_index(rdd):\n",
    "    inverted_index_raw = rdd.flatMap(lambda x: tokenize(x[1], x[0])).groupByKey().mapValues(list)\n",
    "    inverted_index = inverted_index_raw.collectAsMap()\n",
    "    del inverted_index[\"\"]\n",
    "    # повертає звичайний dict\n",
    "    return inverted_index\n",
    "\n",
    "def print_invertedindex(arr):\n",
    "    for row in arr:\n",
    "        print(f\"{row[0]}: {row[1]}\")"
   ]
  },
  {
   "cell_type": "code",
   "execution_count": 10,
   "id": "41c52a7a",
   "metadata": {},
   "outputs": [],
   "source": [
    "inv_index = inverted_index(rdd_drugs)"
   ]
  },
  {
   "cell_type": "code",
   "execution_count": 11,
   "id": "d02f9deb",
   "metadata": {},
   "outputs": [
    {
     "name": "stdout",
     "output_type": "stream",
     "text": [
      "Alcohol.txt: [73, 2340, 2438, 2917, 5028, 5216]\n",
      "Cannabis.txt: [1782, 2526, 2594, 3226]\n",
      "Cocaine.txt: [399]\n",
      "Heroin.txt: [183, 1973, 2027, 3395]\n",
      "Nicotine.txt: [605]\n"
     ]
    }
   ],
   "source": [
    "print_invertedindex(inv_index[\"depression\"])"
   ]
  },
  {
   "cell_type": "code",
   "execution_count": null,
   "id": "3e05f060",
   "metadata": {},
   "outputs": [],
   "source": []
  }
 ],
 "metadata": {
  "kernelspec": {
   "display_name": "Python 3 (ipykernel)",
   "language": "python",
   "name": "python3"
  },
  "language_info": {
   "codemirror_mode": {
    "name": "ipython",
    "version": 3
   },
   "file_extension": ".py",
   "mimetype": "text/x-python",
   "name": "python",
   "nbconvert_exporter": "python",
   "pygments_lexer": "ipython3",
   "version": "3.9.18"
  }
 },
 "nbformat": 4,
 "nbformat_minor": 5
}
